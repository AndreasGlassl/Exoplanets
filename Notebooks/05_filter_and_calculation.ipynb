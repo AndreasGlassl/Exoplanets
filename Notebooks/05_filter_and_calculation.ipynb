{
 "cells": [
  {
   "cell_type": "code",
   "execution_count": 1,
   "metadata": {},
   "outputs": [],
   "source": [
    "# Import the different libraries:\n",
    "\n",
    "import pandas as pd\n",
    "import requests\n",
    "import json\n",
    "from bs4 import BeautifulSoup\n",
    "import matplotlib as plt\n",
    "import numpy as np"
   ]
  },
  {
   "cell_type": "code",
   "execution_count": 2,
   "metadata": {},
   "outputs": [],
   "source": [
    "# Load the DataFrame\n",
    "exo_nasa = pd.read_csv(\"../data/combined/main_frame.csv\", low_memory=False)    "
   ]
  },
  {
   "cell_type": "code",
   "execution_count": 3,
   "metadata": {},
   "outputs": [],
   "source": [
    "#Replace NaNs in pl_eqt with temp_calculated from EU table if there is any. Otherwise it keeps the NaN\n",
    "\n",
    "exo_nasa.pl_eqt = np.where(exo_nasa.pl_eqt.isnull(), exo_nasa.temp_calculated, exo_nasa.pl_eqt)"
   ]
  },
  {
   "cell_type": "code",
   "execution_count": 4,
   "metadata": {},
   "outputs": [],
   "source": [
    "# Get rid of all NaN temperatures\n",
    "exo_nasa = exo_nasa.dropna(subset=[\"pl_eqt\"])"
   ]
  },
  {
   "cell_type": "code",
   "execution_count": 5,
   "metadata": {},
   "outputs": [],
   "source": [
    "looking_at = [\"pl_name\",\"st_mass\",\"pl_orbper\",\"st_teff\",\"st_dist\",\"pl_discmethod\",\"pl_bmassj\", \"pl_eqt\",\"st_rad\",\"pl_dens\",\"star_mass\",\"star_teff\",\"star_distance\",\"detection_type\",\"mass\",\"temp_calculated\",\"star_radius\"]\n",
    "exo_nasa= exo_nasa[looking_at]"
   ]
  },
  {
   "cell_type": "code",
   "execution_count": 6,
   "metadata": {},
   "outputs": [],
   "source": [
    "# Calculate temperature in Celsius from Kelvin\n",
    "exo_nasa['pl_eqt'] = exo_nasa['pl_eqt'] -273"
   ]
  },
  {
   "cell_type": "code",
   "execution_count": 7,
   "metadata": {},
   "outputs": [],
   "source": [
    "# Inserd a planet ID called pl_id\n",
    "exo_nasa.insert(0,\"pl_id\",range(len(exo_nasa)))"
   ]
  },
  {
   "cell_type": "code",
   "execution_count": 8,
   "metadata": {},
   "outputs": [],
   "source": [
    "# Define all nessessarry functions:\n",
    "def pa_2_km(st_dist):\n",
    "    return st_dist * 3.26156 * 365.25 * 24 * 60 * 60 * 300000\n",
    "\n",
    "def by_car(st_dist_km):\n",
    "    car_speed = 200 #km/h\n",
    "    hours_to_year = 24*265.25\n",
    "    return st_dist_km/200/hours_to_year\n",
    "\n",
    "def by_plane(st_dist_km):\n",
    "    plane_speed = 1000 #km/h\n",
    "    hours_to_year = 24*265.25\n",
    "    return st_dist_km/plane_speed/hours_to_year\n",
    "\n",
    "def by_rocket(st_dist_km):\n",
    "    rocket_speed = 11.2 #km/s\n",
    "    seconds_to_year = 24*265.25*60*60\n",
    "    return st_dist_km/rocket_speed/seconds_to_year\n",
    "\n",
    "\n"
   ]
  },
  {
   "cell_type": "code",
   "execution_count": 9,
   "metadata": {},
   "outputs": [],
   "source": [
    "exo_nasa[\"st_dist_km\"] = pa_2_km(exo_nasa[\"st_dist\"])"
   ]
  },
  {
   "cell_type": "code",
   "execution_count": 10,
   "metadata": {},
   "outputs": [],
   "source": [
    "exo_nasa[\"years_by_car\"] = by_car(exo_nasa[\"st_dist_km\"])"
   ]
  },
  {
   "cell_type": "code",
   "execution_count": 11,
   "metadata": {},
   "outputs": [],
   "source": [
    "exo_nasa[\"years_by_plane\"] = by_plane(exo_nasa[\"st_dist_km\"])"
   ]
  },
  {
   "cell_type": "code",
   "execution_count": 12,
   "metadata": {},
   "outputs": [],
   "source": [
    "exo_nasa[\"years_by_rocket\"] = by_rocket(exo_nasa[\"st_dist_km\"])"
   ]
  },
  {
   "cell_type": "code",
   "execution_count": 13,
   "metadata": {},
   "outputs": [],
   "source": [
    "exo_nasa = exo_nasa.sort_values(\"years_by_rocket\")"
   ]
  },
  {
   "cell_type": "code",
   "execution_count": 14,
   "metadata": {},
   "outputs": [],
   "source": [
    "exo_nasa[\"pl_mass_e\"] = exo_nasa[\"pl_bmassj\"]*317.8"
   ]
  },
  {
   "cell_type": "code",
   "execution_count": 15,
   "metadata": {},
   "outputs": [],
   "source": [
    "exo_nasa = exo_nasa.drop(columns=[\"star_teff\",\"star_radius\", \"star_distance\", \"star_mass\", \"st_rad\", \"detection_type\", \"mass\", \"temp_calculated\", \"pl_dens\", \"pl_discmethod\"])"
   ]
  },
  {
   "cell_type": "code",
   "execution_count": 16,
   "metadata": {},
   "outputs": [],
   "source": [
    "exo_nasa.to_csv(\"../data/final/final_frame.csv\", index=False)"
   ]
  },
  {
   "cell_type": "code",
   "execution_count": 17,
   "metadata": {},
   "outputs": [
    {
     "data": {
      "text/html": [
       "<div>\n",
       "<style scoped>\n",
       "    .dataframe tbody tr th:only-of-type {\n",
       "        vertical-align: middle;\n",
       "    }\n",
       "\n",
       "    .dataframe tbody tr th {\n",
       "        vertical-align: top;\n",
       "    }\n",
       "\n",
       "    .dataframe thead th {\n",
       "        text-align: right;\n",
       "    }\n",
       "</style>\n",
       "<table border=\"1\" class=\"dataframe\">\n",
       "  <thead>\n",
       "    <tr style=\"text-align: right;\">\n",
       "      <th></th>\n",
       "      <th>pl_id</th>\n",
       "      <th>pl_name</th>\n",
       "      <th>st_mass</th>\n",
       "      <th>pl_orbper</th>\n",
       "      <th>st_teff</th>\n",
       "      <th>st_dist</th>\n",
       "      <th>pl_bmassj</th>\n",
       "      <th>pl_eqt</th>\n",
       "      <th>st_dist_km</th>\n",
       "      <th>years_by_car</th>\n",
       "      <th>years_by_plane</th>\n",
       "      <th>years_by_rocket</th>\n",
       "      <th>pl_mass_e</th>\n",
       "    </tr>\n",
       "  </thead>\n",
       "  <tbody>\n",
       "    <tr>\n",
       "      <th>2979</th>\n",
       "      <td>330</td>\n",
       "      <td>Proxima Cen b</td>\n",
       "      <td>0.12</td>\n",
       "      <td>11.186000</td>\n",
       "      <td>3050.0</td>\n",
       "      <td>1.30</td>\n",
       "      <td>0.00400</td>\n",
       "      <td>-39.0</td>\n",
       "      <td>4.014153e+13</td>\n",
       "      <td>3.152806e+07</td>\n",
       "      <td>6.305613e+06</td>\n",
       "      <td>1.563892e+05</td>\n",
       "      <td>1.271200</td>\n",
       "    </tr>\n",
       "    <tr>\n",
       "      <th>3543</th>\n",
       "      <td>482</td>\n",
       "      <td>GJ 411 b</td>\n",
       "      <td>0.39</td>\n",
       "      <td>12.953200</td>\n",
       "      <td>3563.0</td>\n",
       "      <td>2.55</td>\n",
       "      <td>0.00941</td>\n",
       "      <td>77.0</td>\n",
       "      <td>7.873916e+13</td>\n",
       "      <td>6.184351e+07</td>\n",
       "      <td>1.236870e+07</td>\n",
       "      <td>3.067635e+05</td>\n",
       "      <td>2.990498</td>\n",
       "    </tr>\n",
       "    <tr>\n",
       "      <th>3408</th>\n",
       "      <td>387</td>\n",
       "      <td>Ross 128 b</td>\n",
       "      <td>0.17</td>\n",
       "      <td>9.865800</td>\n",
       "      <td>3192.0</td>\n",
       "      <td>3.38</td>\n",
       "      <td>0.00440</td>\n",
       "      <td>28.0</td>\n",
       "      <td>1.043680e+14</td>\n",
       "      <td>8.197297e+07</td>\n",
       "      <td>1.639459e+07</td>\n",
       "      <td>4.066119e+05</td>\n",
       "      <td>1.398320</td>\n",
       "    </tr>\n",
       "    <tr>\n",
       "      <th>145</th>\n",
       "      <td>35</td>\n",
       "      <td>HD 20794 b</td>\n",
       "      <td>0.70</td>\n",
       "      <td>18.315000</td>\n",
       "      <td>5401.0</td>\n",
       "      <td>6.00</td>\n",
       "      <td>0.00850</td>\n",
       "      <td>387.0</td>\n",
       "      <td>1.852686e+14</td>\n",
       "      <td>1.455141e+08</td>\n",
       "      <td>2.910283e+07</td>\n",
       "      <td>7.217964e+05</td>\n",
       "      <td>2.701300</td>\n",
       "    </tr>\n",
       "    <tr>\n",
       "      <th>146</th>\n",
       "      <td>36</td>\n",
       "      <td>HD 20794 c</td>\n",
       "      <td>0.70</td>\n",
       "      <td>40.114000</td>\n",
       "      <td>5401.0</td>\n",
       "      <td>6.00</td>\n",
       "      <td>0.00760</td>\n",
       "      <td>235.0</td>\n",
       "      <td>1.852686e+14</td>\n",
       "      <td>1.455141e+08</td>\n",
       "      <td>2.910283e+07</td>\n",
       "      <td>7.217964e+05</td>\n",
       "      <td>2.415280</td>\n",
       "    </tr>\n",
       "    <tr>\n",
       "      <th>...</th>\n",
       "      <td>...</td>\n",
       "      <td>...</td>\n",
       "      <td>...</td>\n",
       "      <td>...</td>\n",
       "      <td>...</td>\n",
       "      <td>...</td>\n",
       "      <td>...</td>\n",
       "      <td>...</td>\n",
       "      <td>...</td>\n",
       "      <td>...</td>\n",
       "      <td>...</td>\n",
       "      <td>...</td>\n",
       "      <td>...</td>\n",
       "    </tr>\n",
       "    <tr>\n",
       "      <th>656</th>\n",
       "      <td>115</td>\n",
       "      <td>Kepler-40 b</td>\n",
       "      <td>1.48</td>\n",
       "      <td>6.873490</td>\n",
       "      <td>6510.0</td>\n",
       "      <td>2700.00</td>\n",
       "      <td>2.20000</td>\n",
       "      <td>1347.0</td>\n",
       "      <td>8.337087e+16</td>\n",
       "      <td>6.548137e+10</td>\n",
       "      <td>1.309627e+10</td>\n",
       "      <td>3.248084e+08</td>\n",
       "      <td>699.160000</td>\n",
       "    </tr>\n",
       "    <tr>\n",
       "      <th>2675</th>\n",
       "      <td>274</td>\n",
       "      <td>OGLE-2005-BLG-071L b</td>\n",
       "      <td>0.46</td>\n",
       "      <td>NaN</td>\n",
       "      <td>NaN</td>\n",
       "      <td>3200.00</td>\n",
       "      <td>3.80000</td>\n",
       "      <td>-218.0</td>\n",
       "      <td>9.880993e+16</td>\n",
       "      <td>7.760754e+10</td>\n",
       "      <td>1.552151e+10</td>\n",
       "      <td>3.849581e+08</td>\n",
       "      <td>1207.640000</td>\n",
       "    </tr>\n",
       "    <tr>\n",
       "      <th>2587</th>\n",
       "      <td>263</td>\n",
       "      <td>WTS-1 b</td>\n",
       "      <td>1.20</td>\n",
       "      <td>3.352057</td>\n",
       "      <td>6250.0</td>\n",
       "      <td>3200.00</td>\n",
       "      <td>4.01000</td>\n",
       "      <td>1227.0</td>\n",
       "      <td>9.880993e+16</td>\n",
       "      <td>7.760754e+10</td>\n",
       "      <td>1.552151e+10</td>\n",
       "      <td>3.849581e+08</td>\n",
       "      <td>1274.378000</td>\n",
       "    </tr>\n",
       "    <tr>\n",
       "      <th>2624</th>\n",
       "      <td>268</td>\n",
       "      <td>MOA-2007-BLG-400L b</td>\n",
       "      <td>0.30</td>\n",
       "      <td>NaN</td>\n",
       "      <td>NaN</td>\n",
       "      <td>5800.00</td>\n",
       "      <td>0.83000</td>\n",
       "      <td>-170.0</td>\n",
       "      <td>1.790930e+17</td>\n",
       "      <td>1.406637e+11</td>\n",
       "      <td>2.813273e+10</td>\n",
       "      <td>6.977365e+08</td>\n",
       "      <td>263.774000</td>\n",
       "    </tr>\n",
       "    <tr>\n",
       "      <th>2677</th>\n",
       "      <td>275</td>\n",
       "      <td>OGLE-2005-BLG-390L b</td>\n",
       "      <td>0.22</td>\n",
       "      <td>3285.000000</td>\n",
       "      <td>NaN</td>\n",
       "      <td>6600.00</td>\n",
       "      <td>0.01700</td>\n",
       "      <td>-223.0</td>\n",
       "      <td>2.037955e+17</td>\n",
       "      <td>1.600656e+11</td>\n",
       "      <td>3.201311e+10</td>\n",
       "      <td>7.939760e+08</td>\n",
       "      <td>5.402600</td>\n",
       "    </tr>\n",
       "  </tbody>\n",
       "</table>\n",
       "<p>783 rows × 13 columns</p>\n",
       "</div>"
      ],
      "text/plain": [
       "      pl_id               pl_name  st_mass    pl_orbper  st_teff  st_dist  \\\n",
       "2979    330         Proxima Cen b     0.12    11.186000   3050.0     1.30   \n",
       "3543    482              GJ 411 b     0.39    12.953200   3563.0     2.55   \n",
       "3408    387            Ross 128 b     0.17     9.865800   3192.0     3.38   \n",
       "145      35            HD 20794 b     0.70    18.315000   5401.0     6.00   \n",
       "146      36            HD 20794 c     0.70    40.114000   5401.0     6.00   \n",
       "...     ...                   ...      ...          ...      ...      ...   \n",
       "656     115           Kepler-40 b     1.48     6.873490   6510.0  2700.00   \n",
       "2675    274  OGLE-2005-BLG-071L b     0.46          NaN      NaN  3200.00   \n",
       "2587    263               WTS-1 b     1.20     3.352057   6250.0  3200.00   \n",
       "2624    268   MOA-2007-BLG-400L b     0.30          NaN      NaN  5800.00   \n",
       "2677    275  OGLE-2005-BLG-390L b     0.22  3285.000000      NaN  6600.00   \n",
       "\n",
       "      pl_bmassj  pl_eqt    st_dist_km  years_by_car  years_by_plane  \\\n",
       "2979    0.00400   -39.0  4.014153e+13  3.152806e+07    6.305613e+06   \n",
       "3543    0.00941    77.0  7.873916e+13  6.184351e+07    1.236870e+07   \n",
       "3408    0.00440    28.0  1.043680e+14  8.197297e+07    1.639459e+07   \n",
       "145     0.00850   387.0  1.852686e+14  1.455141e+08    2.910283e+07   \n",
       "146     0.00760   235.0  1.852686e+14  1.455141e+08    2.910283e+07   \n",
       "...         ...     ...           ...           ...             ...   \n",
       "656     2.20000  1347.0  8.337087e+16  6.548137e+10    1.309627e+10   \n",
       "2675    3.80000  -218.0  9.880993e+16  7.760754e+10    1.552151e+10   \n",
       "2587    4.01000  1227.0  9.880993e+16  7.760754e+10    1.552151e+10   \n",
       "2624    0.83000  -170.0  1.790930e+17  1.406637e+11    2.813273e+10   \n",
       "2677    0.01700  -223.0  2.037955e+17  1.600656e+11    3.201311e+10   \n",
       "\n",
       "      years_by_rocket    pl_mass_e  \n",
       "2979     1.563892e+05     1.271200  \n",
       "3543     3.067635e+05     2.990498  \n",
       "3408     4.066119e+05     1.398320  \n",
       "145      7.217964e+05     2.701300  \n",
       "146      7.217964e+05     2.415280  \n",
       "...               ...          ...  \n",
       "656      3.248084e+08   699.160000  \n",
       "2675     3.849581e+08  1207.640000  \n",
       "2587     3.849581e+08  1274.378000  \n",
       "2624     6.977365e+08   263.774000  \n",
       "2677     7.939760e+08     5.402600  \n",
       "\n",
       "[783 rows x 13 columns]"
      ]
     },
     "execution_count": 17,
     "metadata": {},
     "output_type": "execute_result"
    }
   ],
   "source": [
    "exo_nasa"
   ]
  },
  {
   "cell_type": "code",
   "execution_count": 18,
   "metadata": {},
   "outputs": [],
   "source": [
    "# Plotting and creating Figure 3: star distance vs. planet temperature"
   ]
  },
  {
   "cell_type": "code",
   "execution_count": 19,
   "metadata": {},
   "outputs": [],
   "source": [
    "df_3 = exo_nasa.copy()"
   ]
  },
  {
   "cell_type": "code",
   "execution_count": 20,
   "metadata": {},
   "outputs": [
    {
     "data": {
      "text/plain": [
       "783"
      ]
     },
     "execution_count": 20,
     "metadata": {},
     "output_type": "execute_result"
    }
   ],
   "source": [
    "len(df_3)"
   ]
  },
  {
   "cell_type": "code",
   "execution_count": 21,
   "metadata": {},
   "outputs": [
    {
     "data": {
      "image/png": "[encoded data removed]",
      "text/plain": [
       "<Figure size 720x432 with 1 Axes>"
      ]
     },
     "metadata": {
      "needs_background": "light"
     },
     "output_type": "display_data"
    }
   ],
   "source": [
    "plot_3 = df_3.plot.scatter(x=\"st_dist_km\", \n",
    "                        y=\"pl_eqt\",\n",
    "                        c=\"dodgerblue\",\n",
    "                        figsize=(10,6),\n",
    "                        xlim=(0,0.5*10**17),\n",
    "                        fontsize=18,\n",
    "                        linewidth=2)\n",
    "\n",
    "plot_3.set_xlabel(\"Star distance from Earth (km)\").set_fontsize(18)\n",
    "plot_3.set_ylabel(\"Planet temperature (°C)\").set_fontsize(18)\n",
    "plot_3.axhline(y=0, xmin=0, xmax=1, color=\"black\", ls='--')\n",
    "plot_3.set_facecolor(\"white\")\n",
    "plot_3.set_title(f\"Total = {len(df_3)} exoplanets\", fontsize=25, fontweight='bold').set_position([0.5, 1.05])\n",
    "\n",
    "fig_3 = plot_3.get_figure()"
   ]
  },
  {
   "cell_type": "code",
   "execution_count": 22,
   "metadata": {},
   "outputs": [],
   "source": [
    "fig_3.savefig(\"../Figures/fig_3.png\", dpi=600)"
   ]
  },
  {
   "cell_type": "code",
   "execution_count": 23,
   "metadata": {},
   "outputs": [],
   "source": [
    "# Plotting and creating Figure 4: star distance vs. planet temperature in a temperature range close to earth's"
   ]
  },
  {
   "cell_type": "code",
   "execution_count": 24,
   "metadata": {},
   "outputs": [],
   "source": [
    "df_4 = exo_nasa.copy()"
   ]
  },
  {
   "cell_type": "code",
   "execution_count": 25,
   "metadata": {},
   "outputs": [],
   "source": [
    "df_4 = df_4[df_4.pl_eqt < 60]"
   ]
  },
  {
   "cell_type": "code",
   "execution_count": 26,
   "metadata": {},
   "outputs": [],
   "source": [
    "df_4 = df_4[df_4.pl_eqt > -60]"
   ]
  },
  {
   "cell_type": "code",
   "execution_count": 27,
   "metadata": {},
   "outputs": [
    {
     "data": {
      "text/plain": [
       "28"
      ]
     },
     "execution_count": 27,
     "metadata": {},
     "output_type": "execute_result"
    }
   ],
   "source": [
    "len(df_4)"
   ]
  },
  {
   "cell_type": "code",
   "execution_count": 28,
   "metadata": {},
   "outputs": [
    {
     "data": {
      "image/png": "[encoded data removed]",
      "text/plain": [
       "<Figure size 720x432 with 1 Axes>"
      ]
     },
     "metadata": {
      "needs_background": "light"
     },
     "output_type": "display_data"
    }
   ],
   "source": [
    "plot_4 = df_4.plot.scatter(x=\"st_dist_km\", \n",
    "                        y=\"pl_eqt\",\n",
    "                        c=\"dodgerblue\",\n",
    "                        figsize=(10,6),\n",
    "                        xlim=(20000000,0.25*10**17),  # 20000000 as lower limit to avoid the 0.0 in the axis\n",
    "                        ylim=(-60,60),\n",
    "                        fontsize=18,\n",
    "                        linewidth=5)\n",
    "\n",
    "plot_4.set_xlabel(\"Star distance from Earth (km)\").set_fontsize(18)\n",
    "plot_4.set_ylabel(\"Planet temperature (°C)\").set_fontsize(18)\n",
    "plot_4.axhline(y=0, xmin=0, xmax=1, color=\"black\", ls='--')\n",
    "plot_4.set_facecolor(\"white\")\n",
    "plot_4.set_title(f\"Total = {len(df_4)} out of {len(df_3)} exoplanets\", fontsize=25, fontweight='bold').set_position([0.5, 1.05])\n",
    "\n",
    "fig_4 = plot_4.get_figure()"
   ]
  },
  {
   "cell_type": "code",
   "execution_count": 29,
   "metadata": {},
   "outputs": [],
   "source": [
    "fig_4.savefig(\"../Figures/fig_4.png\", dpi=600)"
   ]
  },
  {
   "cell_type": "code",
   "execution_count": 30,
   "metadata": {},
   "outputs": [],
   "source": [
    "# Plotting and creating Figure 5: time to reach planet vs. temperature"
   ]
  },
  {
   "cell_type": "code",
   "execution_count": 31,
   "metadata": {},
   "outputs": [],
   "source": [
    "df_5 = df_4.copy()"
   ]
  },
  {
   "cell_type": "code",
   "execution_count": 32,
   "metadata": {},
   "outputs": [],
   "source": [
    "mar_pl_obper = 0.2"
   ]
  },
  {
   "cell_type": "code",
   "execution_count": 33,
   "metadata": {},
   "outputs": [],
   "source": [
    "df_5 = df_5[df_5.pl_orbper < 365+365*mar_pl_obper]"
   ]
  },
  {
   "cell_type": "code",
   "execution_count": 34,
   "metadata": {},
   "outputs": [],
   "source": [
    "df_5 = df_5[df_5.pl_orbper > 365-365*mar_pl_obper]"
   ]
  },
  {
   "cell_type": "code",
   "execution_count": 35,
   "metadata": {},
   "outputs": [
    {
     "data": {
      "text/html": [
       "<div>\n",
       "<style scoped>\n",
       "    .dataframe tbody tr th:only-of-type {\n",
       "        vertical-align: middle;\n",
       "    }\n",
       "\n",
       "    .dataframe tbody tr th {\n",
       "        vertical-align: top;\n",
       "    }\n",
       "\n",
       "    .dataframe thead th {\n",
       "        text-align: right;\n",
       "    }\n",
       "</style>\n",
       "<table border=\"1\" class=\"dataframe\">\n",
       "  <thead>\n",
       "    <tr style=\"text-align: right;\">\n",
       "      <th></th>\n",
       "      <th>pl_id</th>\n",
       "      <th>pl_name</th>\n",
       "      <th>st_mass</th>\n",
       "      <th>pl_orbper</th>\n",
       "      <th>st_teff</th>\n",
       "      <th>st_dist</th>\n",
       "      <th>pl_bmassj</th>\n",
       "      <th>pl_eqt</th>\n",
       "      <th>st_dist_km</th>\n",
       "      <th>years_by_car</th>\n",
       "      <th>years_by_plane</th>\n",
       "      <th>years_by_rocket</th>\n",
       "      <th>pl_mass_e</th>\n",
       "    </tr>\n",
       "  </thead>\n",
       "  <tbody>\n",
       "    <tr>\n",
       "      <th>1952</th>\n",
       "      <td>218</td>\n",
       "      <td>WASP-41 c</td>\n",
       "      <td>0.81</td>\n",
       "      <td>421.000</td>\n",
       "      <td>5545.0</td>\n",
       "      <td>164.14</td>\n",
       "      <td>3.18</td>\n",
       "      <td>-32.0</td>\n",
       "      <td>5.068332e+15</td>\n",
       "      <td>3.980782e+09</td>\n",
       "      <td>7.961564e+08</td>\n",
       "      <td>1.974594e+07</td>\n",
       "      <td>1010.604</td>\n",
       "    </tr>\n",
       "    <tr>\n",
       "      <th>2641</th>\n",
       "      <td>272</td>\n",
       "      <td>Kepler-452 b</td>\n",
       "      <td>1.04</td>\n",
       "      <td>384.843</td>\n",
       "      <td>5757.0</td>\n",
       "      <td>560.62</td>\n",
       "      <td>NaN</td>\n",
       "      <td>-8.0</td>\n",
       "      <td>1.731088e+16</td>\n",
       "      <td>1.359636e+10</td>\n",
       "      <td>2.719271e+09</td>\n",
       "      <td>6.744225e+07</td>\n",
       "      <td>NaN</td>\n",
       "    </tr>\n",
       "  </tbody>\n",
       "</table>\n",
       "</div>"
      ],
      "text/plain": [
       "      pl_id       pl_name  st_mass  pl_orbper  st_teff  st_dist  pl_bmassj  \\\n",
       "1952    218     WASP-41 c     0.81    421.000   5545.0   164.14       3.18   \n",
       "2641    272  Kepler-452 b     1.04    384.843   5757.0   560.62        NaN   \n",
       "\n",
       "      pl_eqt    st_dist_km  years_by_car  years_by_plane  years_by_rocket  \\\n",
       "1952   -32.0  5.068332e+15  3.980782e+09    7.961564e+08     1.974594e+07   \n",
       "2641    -8.0  1.731088e+16  1.359636e+10    2.719271e+09     6.744225e+07   \n",
       "\n",
       "      pl_mass_e  \n",
       "1952   1010.604  \n",
       "2641        NaN  "
      ]
     },
     "execution_count": 35,
     "metadata": {},
     "output_type": "execute_result"
    }
   ],
   "source": [
    "df_5"
   ]
  },
  {
   "cell_type": "code",
   "execution_count": 36,
   "metadata": {},
   "outputs": [
    {
     "data": {
      "text/plain": [
       "2"
      ]
     },
     "execution_count": 36,
     "metadata": {},
     "output_type": "execute_result"
    }
   ],
   "source": [
    "len(df_5)"
   ]
  },
  {
   "cell_type": "code",
   "execution_count": 37,
   "metadata": {},
   "outputs": [
    {
     "data": {
      "image/png": "[encoded data removed]",
      "text/plain": [
       "<Figure size 720x432 with 1 Axes>"
      ]
     },
     "metadata": {
      "needs_background": "light"
     },
     "output_type": "display_data"
    }
   ],
   "source": [
    "plot_5 = df_5.plot.scatter(x=\"years_by_rocket\", \n",
    "                        y=\"pl_orbper\",\n",
    "                        c=\"dodgerblue\",\n",
    "                        figsize=(10,6),\n",
    "                        xlim=(0,8*10**7),  \n",
    "                        ylim=(365-365*mar_pl_obper,365+365*mar_pl_obper),\n",
    "                        fontsize=18,\n",
    "                        linewidth=10)\n",
    "\n",
    "plot_5.set_xlabel(\"Travel time by rocket from Earth (years)\").set_fontsize(18)\n",
    "plot_5.set_ylabel(\"Planet orbit period (days)\").set_fontsize(18)\n",
    "plot_5.set_facecolor(\"white\")\n",
    "plot_5.set_title(f\"Total = {len(df_5)} out of {len(df_4)} exoplanets\", fontsize=25, fontweight='bold').set_position([0.5, 1.05])\n",
    "plot_5.annotate(\"WASP-41 c\", xy=(1.974594e+07,415.000), xytext=(1.974594e+07,400.000), fontsize=13, arrowprops=dict(facecolor='black', width=2, headwidth=8))\n",
    "plot_5.annotate(\"Kepler-452 b\", xy=(6.744225e+07,375.843), xytext=(6.744225e+07,360.000), fontsize=13, arrowprops=dict(facecolor='black', width=2, headwidth=8))\n",
    "\n",
    "fig_5 = plot_5.get_figure()"
   ]
  },
  {
   "cell_type": "code",
   "execution_count": 38,
   "metadata": {},
   "outputs": [],
   "source": [
    "fig_5.savefig(\"../Figures/fig_5.png\", dpi=600)"
   ]
  }
 ],
 "metadata": {
  "kernelspec": {
   "display_name": "Python 3",
   "language": "python",
   "name": "python3"
  },
  "language_info": {
   "codemirror_mode": {
    "name": "ipython",
    "version": 3
   },
   "file_extension": ".py",
   "mimetype": "text/x-python",
   "name": "python",
   "nbconvert_exporter": "python",
   "pygments_lexer": "ipython3",
   "version": "3.8.2"
  }
 },
 "nbformat": 4,
 "nbformat_minor": 4
}
