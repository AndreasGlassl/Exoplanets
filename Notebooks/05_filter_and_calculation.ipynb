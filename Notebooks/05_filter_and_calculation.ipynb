{
 "cells": [
  {
   "cell_type": "code",
   "execution_count": 1,
   "metadata": {},
   "outputs": [],
   "source": [
    "# Import the different libraries:\n",
    "\n",
    "import pandas as pd\n",
    "import requests\n",
    "import json\n",
    "from bs4 import BeautifulSoup\n",
    "import matplotlib as plt\n",
    "import numpy as np"
   ]
  },
  {
   "cell_type": "code",
   "execution_count": 2,
   "metadata": {},
   "outputs": [],
   "source": [
    "# Load the DataFrame\n",
    "exo_nasa = pd.read_csv(\"../data/combined/main_frame.csv\", low_memory=False)    "
   ]
  },
  {
   "cell_type": "code",
   "execution_count": 3,
   "metadata": {},
   "outputs": [],
   "source": [
    "#Replace NaNs in pl_eqt with temp_calculated from EU table if there is any. Otherwise it keeps the NaN\n",
    "\n",
    "exo_nasa.pl_eqt = np.where(exo_nasa.pl_eqt.isnull(), exo_nasa.temp_calculated, exo_nasa.pl_eqt)"
   ]
  },
  {
   "cell_type": "code",
   "execution_count": 4,
   "metadata": {},
   "outputs": [],
   "source": [
    "# Get rid of all NaN temperatures\n",
    "exo_nasa = exo_nasa.dropna(subset=[\"pl_eqt\"])"
   ]
  },
  {
   "cell_type": "code",
   "execution_count": 5,
   "metadata": {},
   "outputs": [],
   "source": [
    "looking_at = [\"pl_name\",\"st_mass\",\"pl_orbper\",\"st_teff\",\"st_dist\",\"pl_discmethod\",\"pl_bmassj\", \"pl_eqt\",\"st_rad\",\"pl_dens\",\"star_mass\",\"star_teff\",\"star_distance\",\"detection_type\",\"mass\",\"temp_calculated\",\"star_radius\"]\n",
    "exo_nasa= exo_nasa[looking_at]"
   ]
  },
  {
   "cell_type": "code",
   "execution_count": 6,
   "metadata": {},
   "outputs": [],
   "source": [
    "# Calculate temperature in Celsius from Kelvin\n",
    "#exo_nasa['pl_eqt'] = exo_nasa['pl_eqt'] -273"
   ]
  },
  {
   "cell_type": "code",
   "execution_count": 7,
   "metadata": {},
   "outputs": [],
   "source": [
    "# Inserd a planet ID called pl_id\n",
    "exo_nasa.insert(0,\"pl_id\",range(len(exo_nasa)))"
   ]
  },
  {
   "cell_type": "code",
   "execution_count": 8,
   "metadata": {},
   "outputs": [],
   "source": [
    "# Define all nessessarry functions:\n",
    "def pa_2_km(st_dist):\n",
    "    return st_dist * 3.26156 * 365.25 * 24 * 60 * 60 * 300000\n",
    "\n",
    "def by_car(st_dist_km):\n",
    "    car_speed = 200 #km/h\n",
    "    hours_to_year = 24*265.25\n",
    "    return st_dist_km/200/hours_to_year\n",
    "\n",
    "def by_plane(st_dist_km):\n",
    "    plane_speed = 1000 #km/h\n",
    "    hours_to_year = 24*265.25\n",
    "    return st_dist_km/plane_speed/hours_to_year\n",
    "\n",
    "def by_rocket(st_dist_km):\n",
    "    rocket_speed = 11.2 #km/s\n",
    "    seconds_to_year = 24*265.25*60*60\n",
    "    return st_dist_km/rocket_speed/seconds_to_year\n",
    "\n",
    "\n"
   ]
  },
  {
   "cell_type": "code",
   "execution_count": 9,
   "metadata": {},
   "outputs": [],
   "source": [
    "exo_nasa[\"st_dist_km\"] = pa_2_km(exo_nasa[\"st_dist\"])"
   ]
  },
  {
   "cell_type": "code",
   "execution_count": 10,
   "metadata": {},
   "outputs": [],
   "source": [
    "exo_nasa[\"years_by_car\"] = by_car(exo_nasa[\"st_dist_km\"])"
   ]
  },
  {
   "cell_type": "code",
   "execution_count": 11,
   "metadata": {},
   "outputs": [],
   "source": [
    "exo_nasa[\"years_by_plane\"] = by_plane(exo_nasa[\"st_dist_km\"])"
   ]
  },
  {
   "cell_type": "code",
   "execution_count": 12,
   "metadata": {},
   "outputs": [],
   "source": [
    "exo_nasa[\"years_by_rocket\"] = by_rocket(exo_nasa[\"st_dist_km\"])"
   ]
  },
  {
   "cell_type": "code",
   "execution_count": 13,
   "metadata": {},
   "outputs": [],
   "source": [
    "exo_nasa = exo_nasa.sort_values(\"years_by_rocket\")"
   ]
  },
  {
   "cell_type": "code",
   "execution_count": 14,
   "metadata": {},
   "outputs": [],
   "source": [
    "exo_nasa[\"pl_mass_e\"] = exo_nasa[\"pl_bmassj\"]*317.8"
   ]
  },
  {
   "cell_type": "code",
   "execution_count": 15,
   "metadata": {},
   "outputs": [],
   "source": [
    "exo_nasa = exo_nasa.drop(columns=[\"star_teff\",\"star_radius\", \"star_distance\", \"star_mass\", \"st_rad\", \"detection_type\", \"mass\", \"temp_calculated\", \"pl_dens\", \"pl_discmethod\"])"
   ]
  },
  {
   "cell_type": "code",
   "execution_count": 16,
   "metadata": {},
   "outputs": [],
   "source": [
    "exo_nasa.to_csv(\"../data/final/final_frame.csv\", index=False)"
   ]
  }
 ],
 "metadata": {
  "kernelspec": {
   "display_name": "Python 3",
   "language": "python",
   "name": "python3"
  },
  "language_info": {
   "codemirror_mode": {
    "name": "ipython",
    "version": 3
   },
   "file_extension": ".py",
   "mimetype": "text/x-python",
   "name": "python",
   "nbconvert_exporter": "python",
   "pygments_lexer": "ipython3",
   "version": "3.7.6"
  }
 },
 "nbformat": 4,
 "nbformat_minor": 4
}
