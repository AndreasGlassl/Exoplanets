{
 "cells": [
  {
   "cell_type": "code",
   "execution_count": 1,
   "metadata": {},
   "outputs": [],
   "source": [
    "# Import the different libraries:\n",
    "\n",
    "import pandas as pd\n",
    "import requests\n",
    "import json\n",
    "from bs4 import BeautifulSoup\n",
    "import matplotlib as plt\n",
    "import numpy as np"
   ]
  },
  {
   "cell_type": "code",
   "execution_count": 2,
   "metadata": {},
   "outputs": [],
   "source": [
    "# Open the csv file from the nasa website: data/exoplanets/exoplanets.csv\n",
    "exo_nasa = pd.read_csv(\"../data/nasa/exoplanet_nasa_eqt.csv\")"
   ]
  },
  {
   "cell_type": "code",
   "execution_count": 3,
   "metadata": {},
   "outputs": [],
   "source": [
    "# Open the csv file from the exoplanets website: data/exoplanets/exoplanets.csv\n",
    "exo_eu = pd.read_csv(\"../data/exoplanets/exoplanets_eu.csv\")"
   ]
  },
  {
   "cell_type": "code",
   "execution_count": 4,
   "metadata": {},
   "outputs": [],
   "source": [
    "exo_eu = exo_eu.rename(columns={\"# name\" : \"pl_name\"})"
   ]
  },
  {
   "cell_type": "code",
   "execution_count": 5,
   "metadata": {},
   "outputs": [],
   "source": [
    "exo_nasa[\"pl_name\"] = (exo_nasa[\"pl_name\"].str\n",
    "                       .replace(\" A \", \" \")\n",
    "                       .replace(\" B \", \" \")\n",
    "                       .replace(\" C \", \" \")\n",
    "                       .replace(\" (AB) \", \" \")\n",
    "                       )"
   ]
  },
  {
   "cell_type": "code",
   "execution_count": 6,
   "metadata": {},
   "outputs": [],
   "source": [
    "exo_eu[\"pl_name\"] = (exo_eu[\"pl_name\"].str\n",
    "                     .replace(\" A \", \" \")\n",
    "                     .replace(\" B \", \" \")\n",
    "                     .replace(\" C \", \" \")\n",
    "                     .replace(\" (AB) \", \" \")\n",
    "                     )"
   ]
  },
  {
   "cell_type": "code",
   "execution_count": 7,
   "metadata": {},
   "outputs": [],
   "source": [
    "exo_nasa = exo_nasa.set_index(\"pl_name\")"
   ]
  },
  {
   "cell_type": "code",
   "execution_count": 8,
   "metadata": {},
   "outputs": [],
   "source": [
    "exo_eu = exo_eu.set_index(\"pl_name\")"
   ]
  },
  {
   "cell_type": "code",
   "execution_count": 9,
   "metadata": {},
   "outputs": [],
   "source": [
    "exo_nasa = exo_nasa.join(exo_eu, how=\"left\", lsuffix='pl_name', rsuffix='pl_name')"
   ]
  },
  {
   "cell_type": "code",
   "execution_count": 11,
   "metadata": {},
   "outputs": [],
   "source": [
    "exo_nasa.to_csv(\"../data/combined/main_frame.csv\")"
   ]
  }
 ],
 "metadata": {
  "kernelspec": {
   "display_name": "Python 3",
   "language": "python",
   "name": "python3"
  },
  "language_info": {
   "codemirror_mode": {
    "name": "ipython",
    "version": 3
   },
   "file_extension": ".py",
   "mimetype": "text/x-python",
   "name": "python",
   "nbconvert_exporter": "python",
   "pygments_lexer": "ipython3",
   "version": "3.7.6"
  }
 },
 "nbformat": 4,
 "nbformat_minor": 4
}
