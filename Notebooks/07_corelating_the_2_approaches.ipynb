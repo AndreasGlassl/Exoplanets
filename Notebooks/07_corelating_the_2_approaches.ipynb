{
 "cells": [
  {
   "cell_type": "code",
   "execution_count": 1,
   "metadata": {},
   "outputs": [],
   "source": [
    "# Import the different libraries:\n",
    "\n",
    "import pandas as pd\n",
    "import requests\n",
    "import json\n",
    "from bs4 import BeautifulSoup\n",
    "import matplotlib as plt\n",
    "import numpy as np"
   ]
  },
  {
   "cell_type": "code",
   "execution_count": 2,
   "metadata": {},
   "outputs": [],
   "source": [
    "df = pd.read_csv(\"../data/final/final_frame.csv\")"
   ]
  },
  {
   "cell_type": "code",
   "execution_count": 3,
   "metadata": {},
   "outputs": [],
   "source": [
    "mass_period = df.copy()"
   ]
  },
  {
   "cell_type": "code",
   "execution_count": 4,
   "metadata": {},
   "outputs": [],
   "source": [
    "dist_temp = df.copy()"
   ]
  },
  {
   "cell_type": "code",
   "execution_count": 5,
   "metadata": {},
   "outputs": [],
   "source": [
    "mass_period = (mass_period[(mass_period[\"Stellar Mass (solar mass)\"]>0.8)\n",
    "                          &(mass_period[\"Stellar Mass (solar mass)\"]<1.2)])"
   ]
  },
  {
   "cell_type": "code",
   "execution_count": 6,
   "metadata": {},
   "outputs": [],
   "source": [
    "mass_period = (mass_period[(mass_period[\"Orbital Period (days)\"]>200)\n",
    "                          &(mass_period[\"Orbital Period (days)\"]<450)])"
   ]
  },
  {
   "cell_type": "code",
   "execution_count": 7,
   "metadata": {},
   "outputs": [
    {
     "data": {
      "text/html": [
       "<div>\n",
       "<style scoped>\n",
       "    .dataframe tbody tr th:only-of-type {\n",
       "        vertical-align: middle;\n",
       "    }\n",
       "\n",
       "    .dataframe tbody tr th {\n",
       "        vertical-align: top;\n",
       "    }\n",
       "\n",
       "    .dataframe thead th {\n",
       "        text-align: right;\n",
       "    }\n",
       "</style>\n",
       "<table border=\"1\" class=\"dataframe\">\n",
       "  <thead>\n",
       "    <tr style=\"text-align: right;\">\n",
       "      <th></th>\n",
       "      <th>pl_id</th>\n",
       "      <th>Planet Name</th>\n",
       "      <th>Stellar Mass (solar mass)</th>\n",
       "      <th>Orbital Period (days)</th>\n",
       "      <th>Effective  Temperature (K)</th>\n",
       "      <th>Distance (pc)</th>\n",
       "      <th>Planet Mass or M*sin(i) [Jupiter mass]</th>\n",
       "      <th>Planet Equilibrium Temperature</th>\n",
       "      <th>st_dist_km</th>\n",
       "      <th>years_by_car</th>\n",
       "      <th>years_by_plane</th>\n",
       "      <th>years_by_rocket</th>\n",
       "      <th>pl_mass_e</th>\n",
       "    </tr>\n",
       "  </thead>\n",
       "  <tbody>\n",
       "    <tr>\n",
       "      <th>266</th>\n",
       "      <td>218</td>\n",
       "      <td>WASP-41 c</td>\n",
       "      <td>0.81</td>\n",
       "      <td>421.0000</td>\n",
       "      <td>5545.0</td>\n",
       "      <td>164.14</td>\n",
       "      <td>3.180</td>\n",
       "      <td>-32.0</td>\n",
       "      <td>5.068332e+15</td>\n",
       "      <td>3.980782e+09</td>\n",
       "      <td>7.961564e+08</td>\n",
       "      <td>1.974594e+07</td>\n",
       "      <td>1010.6040</td>\n",
       "    </tr>\n",
       "    <tr>\n",
       "      <th>306</th>\n",
       "      <td>59</td>\n",
       "      <td>Kepler-22 b</td>\n",
       "      <td>0.97</td>\n",
       "      <td>289.8623</td>\n",
       "      <td>5518.0</td>\n",
       "      <td>190.00</td>\n",
       "      <td>0.113</td>\n",
       "      <td>-11.0</td>\n",
       "      <td>5.866839e+15</td>\n",
       "      <td>4.607948e+09</td>\n",
       "      <td>9.215896e+08</td>\n",
       "      <td>2.285688e+07</td>\n",
       "      <td>35.9114</td>\n",
       "    </tr>\n",
       "    <tr>\n",
       "      <th>493</th>\n",
       "      <td>60</td>\n",
       "      <td>PH2 b</td>\n",
       "      <td>0.94</td>\n",
       "      <td>282.5255</td>\n",
       "      <td>5629.0</td>\n",
       "      <td>347.27</td>\n",
       "      <td>NaN</td>\n",
       "      <td>8.0</td>\n",
       "      <td>1.072304e+16</td>\n",
       "      <td>8.422116e+09</td>\n",
       "      <td>1.684423e+09</td>\n",
       "      <td>4.177637e+07</td>\n",
       "      <td>NaN</td>\n",
       "    </tr>\n",
       "    <tr>\n",
       "      <th>636</th>\n",
       "      <td>272</td>\n",
       "      <td>Kepler-452 b</td>\n",
       "      <td>1.04</td>\n",
       "      <td>384.8430</td>\n",
       "      <td>5757.0</td>\n",
       "      <td>560.62</td>\n",
       "      <td>NaN</td>\n",
       "      <td>-8.0</td>\n",
       "      <td>1.731088e+16</td>\n",
       "      <td>1.359636e+10</td>\n",
       "      <td>2.719271e+09</td>\n",
       "      <td>6.744225e+07</td>\n",
       "      <td>NaN</td>\n",
       "    </tr>\n",
       "    <tr>\n",
       "      <th>683</th>\n",
       "      <td>45</td>\n",
       "      <td>Kepler-69 c</td>\n",
       "      <td>0.81</td>\n",
       "      <td>242.4613</td>\n",
       "      <td>5638.0</td>\n",
       "      <td>746.33</td>\n",
       "      <td>NaN</td>\n",
       "      <td>26.0</td>\n",
       "      <td>2.304525e+16</td>\n",
       "      <td>1.810026e+10</td>\n",
       "      <td>3.620052e+09</td>\n",
       "      <td>8.978305e+07</td>\n",
       "      <td>NaN</td>\n",
       "    </tr>\n",
       "  </tbody>\n",
       "</table>\n",
       "</div>"
      ],
      "text/plain": [
       "     pl_id   Planet Name  Stellar Mass (solar mass)  Orbital Period (days)  \\\n",
       "266    218     WASP-41 c                       0.81               421.0000   \n",
       "306     59   Kepler-22 b                       0.97               289.8623   \n",
       "493     60         PH2 b                       0.94               282.5255   \n",
       "636    272  Kepler-452 b                       1.04               384.8430   \n",
       "683     45   Kepler-69 c                       0.81               242.4613   \n",
       "\n",
       "     Effective  Temperature (K)  Distance (pc)  \\\n",
       "266                      5545.0         164.14   \n",
       "306                      5518.0         190.00   \n",
       "493                      5629.0         347.27   \n",
       "636                      5757.0         560.62   \n",
       "683                      5638.0         746.33   \n",
       "\n",
       "     Planet Mass or M*sin(i) [Jupiter mass]  Planet Equilibrium Temperature  \\\n",
       "266                                   3.180                           -32.0   \n",
       "306                                   0.113                           -11.0   \n",
       "493                                     NaN                             8.0   \n",
       "636                                     NaN                            -8.0   \n",
       "683                                     NaN                            26.0   \n",
       "\n",
       "       st_dist_km  years_by_car  years_by_plane  years_by_rocket  pl_mass_e  \n",
       "266  5.068332e+15  3.980782e+09    7.961564e+08     1.974594e+07  1010.6040  \n",
       "306  5.866839e+15  4.607948e+09    9.215896e+08     2.285688e+07    35.9114  \n",
       "493  1.072304e+16  8.422116e+09    1.684423e+09     4.177637e+07        NaN  \n",
       "636  1.731088e+16  1.359636e+10    2.719271e+09     6.744225e+07        NaN  \n",
       "683  2.304525e+16  1.810026e+10    3.620052e+09     8.978305e+07        NaN  "
      ]
     },
     "execution_count": 7,
     "metadata": {},
     "output_type": "execute_result"
    }
   ],
   "source": [
    "mass_period"
   ]
  },
  {
   "cell_type": "code",
   "execution_count": null,
   "metadata": {},
   "outputs": [],
   "source": []
  }
 ],
 "metadata": {
  "kernelspec": {
   "display_name": "Python 3",
   "language": "python",
   "name": "python3"
  },
  "language_info": {
   "codemirror_mode": {
    "name": "ipython",
    "version": 3
   },
   "file_extension": ".py",
   "mimetype": "text/x-python",
   "name": "python",
   "nbconvert_exporter": "python",
   "pygments_lexer": "ipython3",
   "version": "3.7.6"
  }
 },
 "nbformat": 4,
 "nbformat_minor": 4
}
