{
 "cells": [
  {
   "cell_type": "code",
   "execution_count": 1,
   "metadata": {},
   "outputs": [],
   "source": [
    "import pandas as pd\n",
    "import requests\n",
    "import json\n",
    "import matplotlib\n",
    "%matplotlib inline"
   ]
  },
  {
   "cell_type": "code",
   "execution_count": 2,
   "metadata": {},
   "outputs": [],
   "source": [
    "base_url = \"https://exoplanetarchive.ipac.caltech.edu/cgi-bin/nstedAPI/nph-nstedAPI?\"\n",
    "table_exo = \"table=exoplanets\"\n",
    "col_exo = \"select=pl_name,pl_eqt\"\n",
    "format_exo = \"format=json\"\n",
    "sep = \"&\""
   ]
  },
  {
   "cell_type": "code",
   "execution_count": 3,
   "metadata": {},
   "outputs": [
    {
     "data": {
      "text/plain": [
       "'https://exoplanetarchive.ipac.caltech.edu/cgi-bin/nstedAPI/nph-nstedAPI?table=exoplanets&select=pl_name,pl_eqt&format=json'"
      ]
     },
     "execution_count": 3,
     "metadata": {},
     "output_type": "execute_result"
    }
   ],
   "source": [
    "exo_req = base_url + table_exo + sep + col_exo + sep + format_exo\n",
    "exo_req"
   ]
  },
  {
   "cell_type": "code",
   "execution_count": 4,
   "metadata": {},
   "outputs": [],
   "source": [
    "exo_pl_eqt = requests.get(exo_req).json()"
   ]
  },
  {
   "cell_type": "code",
   "execution_count": 5,
   "metadata": {},
   "outputs": [],
   "source": [
    "df = pd.DataFrame(exo_pl_eqt)"
   ]
  },
  {
   "cell_type": "code",
   "execution_count": 6,
   "metadata": {},
   "outputs": [
    {
     "data": {
      "text/html": [
       "<div>\n",
       "<style scoped>\n",
       "    .dataframe tbody tr th:only-of-type {\n",
       "        vertical-align: middle;\n",
       "    }\n",
       "\n",
       "    .dataframe tbody tr th {\n",
       "        vertical-align: top;\n",
       "    }\n",
       "\n",
       "    .dataframe thead th {\n",
       "        text-align: right;\n",
       "    }\n",
       "</style>\n",
       "<table border=\"1\" class=\"dataframe\">\n",
       "  <thead>\n",
       "    <tr style=\"text-align: right;\">\n",
       "      <th></th>\n",
       "      <th>pl_name</th>\n",
       "      <th>pl_eqt</th>\n",
       "    </tr>\n",
       "  </thead>\n",
       "  <tbody>\n",
       "    <tr>\n",
       "      <th>0</th>\n",
       "      <td>CoRoT-11 b</td>\n",
       "      <td>1657.0</td>\n",
       "    </tr>\n",
       "    <tr>\n",
       "      <th>1</th>\n",
       "      <td>CoRoT-12 b</td>\n",
       "      <td>1442.0</td>\n",
       "    </tr>\n",
       "    <tr>\n",
       "      <th>2</th>\n",
       "      <td>CoRoT-13 b</td>\n",
       "      <td>1700.0</td>\n",
       "    </tr>\n",
       "    <tr>\n",
       "      <th>3</th>\n",
       "      <td>CoRoT-14 b</td>\n",
       "      <td>1952.0</td>\n",
       "    </tr>\n",
       "    <tr>\n",
       "      <th>4</th>\n",
       "      <td>CoRoT-16 b</td>\n",
       "      <td>NaN</td>\n",
       "    </tr>\n",
       "    <tr>\n",
       "      <th>...</th>\n",
       "      <td>...</td>\n",
       "      <td>...</td>\n",
       "    </tr>\n",
       "    <tr>\n",
       "      <th>4139</th>\n",
       "      <td>HATS-42 b</td>\n",
       "      <td>1856.0</td>\n",
       "    </tr>\n",
       "    <tr>\n",
       "      <th>4140</th>\n",
       "      <td>OGLE-2017-BLG-1522L b</td>\n",
       "      <td>NaN</td>\n",
       "    </tr>\n",
       "    <tr>\n",
       "      <th>4141</th>\n",
       "      <td>GJ 1132 c</td>\n",
       "      <td>300.0</td>\n",
       "    </tr>\n",
       "    <tr>\n",
       "      <th>4142</th>\n",
       "      <td>HAT-P-11 c</td>\n",
       "      <td>NaN</td>\n",
       "    </tr>\n",
       "    <tr>\n",
       "      <th>4143</th>\n",
       "      <td>CoRoT-20 c</td>\n",
       "      <td>NaN</td>\n",
       "    </tr>\n",
       "  </tbody>\n",
       "</table>\n",
       "<p>4144 rows × 2 columns</p>\n",
       "</div>"
      ],
      "text/plain": [
       "                    pl_name  pl_eqt\n",
       "0                CoRoT-11 b  1657.0\n",
       "1                CoRoT-12 b  1442.0\n",
       "2                CoRoT-13 b  1700.0\n",
       "3                CoRoT-14 b  1952.0\n",
       "4                CoRoT-16 b     NaN\n",
       "...                     ...     ...\n",
       "4139              HATS-42 b  1856.0\n",
       "4140  OGLE-2017-BLG-1522L b     NaN\n",
       "4141              GJ 1132 c   300.0\n",
       "4142             HAT-P-11 c     NaN\n",
       "4143             CoRoT-20 c     NaN\n",
       "\n",
       "[4144 rows x 2 columns]"
      ]
     },
     "execution_count": 6,
     "metadata": {},
     "output_type": "execute_result"
    }
   ],
   "source": [
    "df"
   ]
  },
  {
   "cell_type": "code",
   "execution_count": 7,
   "metadata": {},
   "outputs": [],
   "source": [
    "nasa_info = pd.read_csv(\"../data/nasa/exoplanet_nasa.csv\")"
   ]
  },
  {
   "cell_type": "code",
   "execution_count": 9,
   "metadata": {},
   "outputs": [
    {
     "data": {
      "text/html": [
       "<div>\n",
       "<style scoped>\n",
       "    .dataframe tbody tr th:only-of-type {\n",
       "        vertical-align: middle;\n",
       "    }\n",
       "\n",
       "    .dataframe tbody tr th {\n",
       "        vertical-align: top;\n",
       "    }\n",
       "\n",
       "    .dataframe thead th {\n",
       "        text-align: right;\n",
       "    }\n",
       "</style>\n",
       "<table border=\"1\" class=\"dataframe\">\n",
       "  <thead>\n",
       "    <tr style=\"text-align: right;\">\n",
       "      <th></th>\n",
       "      <th>Unnamed: 0</th>\n",
       "      <th>pl_hostname</th>\n",
       "      <th>pl_letter</th>\n",
       "      <th>pl_name</th>\n",
       "      <th>pl_discmethod</th>\n",
       "      <th>pl_controvflag</th>\n",
       "      <th>pl_pnum</th>\n",
       "      <th>pl_orbper</th>\n",
       "      <th>pl_orbpererr1</th>\n",
       "      <th>pl_orbpererr2</th>\n",
       "      <th>...</th>\n",
       "      <th>st_masslim</th>\n",
       "      <th>st_massn</th>\n",
       "      <th>st_rad</th>\n",
       "      <th>st_raderr1</th>\n",
       "      <th>st_raderr2</th>\n",
       "      <th>st_radlim</th>\n",
       "      <th>st_radn</th>\n",
       "      <th>pl_nnotes</th>\n",
       "      <th>rowupdate</th>\n",
       "      <th>pl_facility</th>\n",
       "    </tr>\n",
       "  </thead>\n",
       "  <tbody>\n",
       "    <tr>\n",
       "      <th>0</th>\n",
       "      <td>0</td>\n",
       "      <td>CoRoT-11</td>\n",
       "      <td>b</td>\n",
       "      <td>CoRoT-11 b</td>\n",
       "      <td>Transit</td>\n",
       "      <td>0</td>\n",
       "      <td>1</td>\n",
       "      <td>2.994330</td>\n",
       "      <td>0.000011</td>\n",
       "      <td>-0.000011</td>\n",
       "      <td>...</td>\n",
       "      <td>0.0</td>\n",
       "      <td>5</td>\n",
       "      <td>1.37</td>\n",
       "      <td>0.03</td>\n",
       "      <td>-0.03</td>\n",
       "      <td>0.0</td>\n",
       "      <td>6</td>\n",
       "      <td>0</td>\n",
       "      <td>2014-05-14</td>\n",
       "      <td>CoRoT</td>\n",
       "    </tr>\n",
       "    <tr>\n",
       "      <th>1</th>\n",
       "      <td>1</td>\n",
       "      <td>CoRoT-12</td>\n",
       "      <td>b</td>\n",
       "      <td>CoRoT-12 b</td>\n",
       "      <td>Transit</td>\n",
       "      <td>0</td>\n",
       "      <td>1</td>\n",
       "      <td>2.828042</td>\n",
       "      <td>0.000013</td>\n",
       "      <td>-0.000013</td>\n",
       "      <td>...</td>\n",
       "      <td>0.0</td>\n",
       "      <td>5</td>\n",
       "      <td>1.12</td>\n",
       "      <td>0.10</td>\n",
       "      <td>-0.09</td>\n",
       "      <td>0.0</td>\n",
       "      <td>6</td>\n",
       "      <td>0</td>\n",
       "      <td>2014-05-14</td>\n",
       "      <td>CoRoT</td>\n",
       "    </tr>\n",
       "    <tr>\n",
       "      <th>2</th>\n",
       "      <td>2</td>\n",
       "      <td>CoRoT-13</td>\n",
       "      <td>b</td>\n",
       "      <td>CoRoT-13 b</td>\n",
       "      <td>Transit</td>\n",
       "      <td>0</td>\n",
       "      <td>1</td>\n",
       "      <td>4.035190</td>\n",
       "      <td>0.000030</td>\n",
       "      <td>-0.000030</td>\n",
       "      <td>...</td>\n",
       "      <td>0.0</td>\n",
       "      <td>3</td>\n",
       "      <td>1.01</td>\n",
       "      <td>0.03</td>\n",
       "      <td>-0.03</td>\n",
       "      <td>0.0</td>\n",
       "      <td>4</td>\n",
       "      <td>0</td>\n",
       "      <td>2014-05-14</td>\n",
       "      <td>CoRoT</td>\n",
       "    </tr>\n",
       "    <tr>\n",
       "      <th>3</th>\n",
       "      <td>3</td>\n",
       "      <td>CoRoT-14</td>\n",
       "      <td>b</td>\n",
       "      <td>CoRoT-14 b</td>\n",
       "      <td>Transit</td>\n",
       "      <td>0</td>\n",
       "      <td>1</td>\n",
       "      <td>1.512140</td>\n",
       "      <td>0.000130</td>\n",
       "      <td>-0.000130</td>\n",
       "      <td>...</td>\n",
       "      <td>0.0</td>\n",
       "      <td>3</td>\n",
       "      <td>1.21</td>\n",
       "      <td>0.08</td>\n",
       "      <td>-0.08</td>\n",
       "      <td>0.0</td>\n",
       "      <td>4</td>\n",
       "      <td>0</td>\n",
       "      <td>2014-05-14</td>\n",
       "      <td>CoRoT</td>\n",
       "    </tr>\n",
       "    <tr>\n",
       "      <th>4</th>\n",
       "      <td>4</td>\n",
       "      <td>CoRoT-16</td>\n",
       "      <td>b</td>\n",
       "      <td>CoRoT-16 b</td>\n",
       "      <td>Transit</td>\n",
       "      <td>0</td>\n",
       "      <td>1</td>\n",
       "      <td>5.352270</td>\n",
       "      <td>0.000200</td>\n",
       "      <td>-0.000200</td>\n",
       "      <td>...</td>\n",
       "      <td>0.0</td>\n",
       "      <td>2</td>\n",
       "      <td>1.19</td>\n",
       "      <td>0.14</td>\n",
       "      <td>-0.13</td>\n",
       "      <td>0.0</td>\n",
       "      <td>3</td>\n",
       "      <td>0</td>\n",
       "      <td>2014-05-14</td>\n",
       "      <td>CoRoT</td>\n",
       "    </tr>\n",
       "  </tbody>\n",
       "</table>\n",
       "<p>5 rows × 83 columns</p>\n",
       "</div>"
      ],
      "text/plain": [
       "   Unnamed: 0 pl_hostname pl_letter     pl_name pl_discmethod  pl_controvflag  \\\n",
       "0           0    CoRoT-11         b  CoRoT-11 b       Transit               0   \n",
       "1           1    CoRoT-12         b  CoRoT-12 b       Transit               0   \n",
       "2           2    CoRoT-13         b  CoRoT-13 b       Transit               0   \n",
       "3           3    CoRoT-14         b  CoRoT-14 b       Transit               0   \n",
       "4           4    CoRoT-16         b  CoRoT-16 b       Transit               0   \n",
       "\n",
       "   pl_pnum  pl_orbper  pl_orbpererr1  pl_orbpererr2  ...  st_masslim  \\\n",
       "0        1   2.994330       0.000011      -0.000011  ...         0.0   \n",
       "1        1   2.828042       0.000013      -0.000013  ...         0.0   \n",
       "2        1   4.035190       0.000030      -0.000030  ...         0.0   \n",
       "3        1   1.512140       0.000130      -0.000130  ...         0.0   \n",
       "4        1   5.352270       0.000200      -0.000200  ...         0.0   \n",
       "\n",
       "   st_massn  st_rad  st_raderr1  st_raderr2  st_radlim  st_radn  pl_nnotes  \\\n",
       "0         5    1.37        0.03       -0.03        0.0        6          0   \n",
       "1         5    1.12        0.10       -0.09        0.0        6          0   \n",
       "2         3    1.01        0.03       -0.03        0.0        4          0   \n",
       "3         3    1.21        0.08       -0.08        0.0        4          0   \n",
       "4         2    1.19        0.14       -0.13        0.0        3          0   \n",
       "\n",
       "    rowupdate  pl_facility  \n",
       "0  2014-05-14        CoRoT  \n",
       "1  2014-05-14        CoRoT  \n",
       "2  2014-05-14        CoRoT  \n",
       "3  2014-05-14        CoRoT  \n",
       "4  2014-05-14        CoRoT  \n",
       "\n",
       "[5 rows x 83 columns]"
      ]
     },
     "execution_count": 9,
     "metadata": {},
     "output_type": "execute_result"
    }
   ],
   "source": [
    "nasa_info.head()"
   ]
  },
  {
   "cell_type": "code",
   "execution_count": 15,
   "metadata": {},
   "outputs": [],
   "source": [
    "nasa_info = nasa_info.assign(pl_eqt = df['pl_eqt'])"
   ]
  },
  {
   "cell_type": "code",
   "execution_count": 17,
   "metadata": {},
   "outputs": [
    {
     "data": {
      "text/plain": [
       "(4144, 84)"
      ]
     },
     "execution_count": 17,
     "metadata": {},
     "output_type": "execute_result"
    }
   ],
   "source": [
    "nasa_info.shape"
   ]
  },
  {
   "cell_type": "code",
   "execution_count": 18,
   "metadata": {},
   "outputs": [],
   "source": [
    "nasa_info.to_csv('../data/nasa/exoplanet_nasa_eqt.csv')"
   ]
  },
  {
   "cell_type": "code",
   "execution_count": null,
   "metadata": {},
   "outputs": [],
   "source": []
  }
 ],
 "metadata": {
  "kernelspec": {
   "display_name": "Python 3",
   "language": "python",
   "name": "python3"
  },
  "language_info": {
   "codemirror_mode": {
    "name": "ipython",
    "version": 3
   },
   "file_extension": ".py",
   "mimetype": "text/x-python",
   "name": "python",
   "nbconvert_exporter": "python",
   "pygments_lexer": "ipython3",
   "version": "3.8.2"
  }
 },
 "nbformat": 4,
 "nbformat_minor": 4
}
