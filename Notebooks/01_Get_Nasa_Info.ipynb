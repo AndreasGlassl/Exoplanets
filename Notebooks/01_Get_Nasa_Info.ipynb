{
 "cells": [
  {
   "cell_type": "code",
   "execution_count": null,
   "metadata": {},
   "outputs": [],
   "source": [
    "# Import the different libraries:\n",
    "\n",
    "import pandas as pd\n",
    "import requests\n",
    "import json\n",
    "from bs4 import BeautifulSoup\n",
    "import matplotlib as plt"
   ]
  },
  {
   "cell_type": "code",
   "execution_count": null,
   "metadata": {},
   "outputs": [],
   "source": [
    "# Get the URL for the API-Request on the exoplanets from NASA:\n",
    "# Check out this website for further information:\n",
    "# https://exoplanetarchive.ipac.caltech.edu/docs/program_interfaces.html#data\n",
    "\n",
    "base_url = \"https://exoplanetarchive.ipac.caltech.edu/cgi-bin/nstedAPI/nph-nstedAPI?\"\n",
    "\n",
    "# The extension for Exoplanets table:\n",
    "\n",
    "exo_table = \"table=exoplanets\"\n",
    "\n",
    "# Check for columns: in this case, its default. Otherwise seperate with a ,\n",
    "\n",
    "exo_columns = \"getdefaultcolumns\"\n",
    "\n",
    "# Dont forget the seperator:\n",
    "\n",
    "seperator = \"&\"\n",
    "\n",
    "# Pick a format: csv, txt, json, etc.\n",
    "\n",
    "exo_format = \"format=json\"\n",
    "\n",
    "\n",
    "\n",
    "\n"
   ]
  },
  {
   "cell_type": "code",
   "execution_count": null,
   "metadata": {},
   "outputs": [],
   "source": [
    "# Make a json file from the request of the URL:\n",
    "exoplanets = requests.get(base_url+exo_table+seperator+exo_columns+seperator+exo_format).json()"
   ]
  },
  {
   "cell_type": "code",
   "execution_count": null,
   "metadata": {},
   "outputs": [],
   "source": [
    "# Turn the list of dictionaries into a dataframe:\n",
    "df = pd.DataFrame(exoplanets)"
   ]
  },
  {
   "cell_type": "code",
   "execution_count": null,
   "metadata": {},
   "outputs": [],
   "source": [
    "# Make a Copy so we have original data in the end still:\n",
    "exo_nasa = df.copy()"
   ]
  },
  {
   "cell_type": "code",
   "execution_count": null,
   "metadata": {},
   "outputs": [],
   "source": [
    "# Write the df to a csv file:\n",
    "exo_nasa.to_csv(\"../data/nasa/exoplanet_nasa.csv\", index=False)"
   ]
  }
 ],
 "metadata": {
  "kernelspec": {
   "display_name": "Python 3",
   "language": "python",
   "name": "python3"
  },
  "language_info": {
   "codemirror_mode": {
    "name": "ipython",
    "version": 3
   },
   "file_extension": ".py",
   "mimetype": "text/x-python",
   "name": "python",
   "nbconvert_exporter": "python",
   "pygments_lexer": "ipython3",
   "version": "3.8.2"
  }
 },
 "nbformat": 4,
 "nbformat_minor": 4
}
